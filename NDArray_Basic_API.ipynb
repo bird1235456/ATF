{
  "nbformat": 4,
  "nbformat_minor": 0,
  "metadata": {
    "colab": {
      "name": "NDArray Basic API",
      "provenance": [],
      "collapsed_sections": [],
      "include_colab_link": true
    },
    "kernelspec": {
      "name": "swift",
      "display_name": "Swift"
    }
  },
  "cells": [
    {
      "cell_type": "markdown",
      "metadata": {
        "id": "view-in-github",
        "colab_type": "text"
      },
      "source": [
        "<a href=\"https://colab.research.google.com/github/bird1235456/ATF/blob/master/NDArray_Basic_API.ipynb\" target=\"_parent\"><img src=\"https://colab.research.google.com/assets/colab-badge.svg\" alt=\"Open In Colab\"/></a>"
      ]
    },
    {
      "cell_type": "code",
      "metadata": {
        "id": "jApcAgqvNPQB",
        "colab_type": "code",
        "colab": {}
      },
      "source": [
        "%install '.package(url: \"https://github.com/cgarciae/NDArray\", from: \"0.0.20\")' NDArray\n",
        "// %install '.package(url: \"https://github.com/cgarciae/NDArray\", .branch(\"master\"))' NDArray"
      ],
      "execution_count": 0,
      "outputs": []
    },
    {
      "cell_type": "markdown",
      "metadata": {
        "id": "lObYNIY-RJi_",
        "colab_type": "text"
      },
      "source": [
        "# NDArray\n",
        "\n",
        "NDArray is a multidimensional array library written in Swift that aims to become the equivalent of `numpy` in Swift's emerging data science ecosystem. This project is in a very early stage and has a long but exciting road ahead!\n",
        "\n",
        "## Goals\n",
        "\n",
        "1. Have an efficient multidimensional array interface with common things like indexing, slicing, broadcasting, etc. \n",
        "2. Create specialized implementations of linear algebra operations for NDArrays containing numeric types using BLAS, LAPACK or even MLIR.\n",
        "3. Make `NDArray` and its operations `differentiable` so its usable along with Swift for TensorFlow.\n",
        "\n",
        "## Import"
      ]
    },
    {
      "cell_type": "code",
      "metadata": {
        "id": "6iiRWDrjoXlh",
        "colab_type": "code",
        "colab": {}
      },
      "source": [
        "import NDArray"
      ],
      "execution_count": 0,
      "outputs": []
    },
    {
      "cell_type": "markdown",
      "metadata": {
        "id": "zAoeNby3onf8",
        "colab_type": "text"
      },
      "source": [
        "## NDArray Type"
      ]
    },
    {
      "cell_type": "code",
      "metadata": {
        "id": "gAOsdju3osD8",
        "colab_type": "code",
        "outputId": "74314ad0-f30a-4fda-d529-684ee7c17c6c",
        "colab": {
          "base_uri": "https://localhost:8080/",
          "height": 120
        }
      },
      "source": [
        "let a = NDArray<Int>([\n",
        "    [1, 2, 3],\n",
        "    [4, 5, 6],\n",
        "])\n",
        "\n",
        "print(\"type:\", type(of: a))\n",
        "print(\"shape:\", a.shape)\n",
        "print(\"repr:\", a)"
      ],
      "execution_count": 0,
      "outputs": [
        {
          "output_type": "stream",
          "text": [
            "type: NDArray<Int>\r\n",
            "shape: [2, 3]\r\n",
            "repr: NDArray<Int>[2, 3]([\r\n",
            "    [1, 2, 3],\r\n",
            "    [4, 5, 6],\r\n",
            "])\r\n"
          ],
          "name": "stdout"
        }
      ]
    },
    {
      "cell_type": "markdown",
      "metadata": {
        "id": "LG972QwzpbDl",
        "colab_type": "text"
      },
      "source": [
        "## Subscript API\n",
        "The basic subscript API in large part is a port of TensorFlows subscript API with a few modifications."
      ]
    },
    {
      "cell_type": "markdown",
      "metadata": {
        "id": "xmOppsFMSY3T",
        "colab_type": "text"
      },
      "source": [
        "### Indexing"
      ]
    },
    {
      "cell_type": "code",
      "metadata": {
        "id": "x9AUbIu3SX6I",
        "colab_type": "code",
        "outputId": "f6a7b8f4-bb1c-4b57-f222-ee616357c6f2",
        "colab": {
          "base_uri": "https://localhost:8080/",
          "height": 34
        }
      },
      "source": [
        "let a = NDArray<Int>([\n",
        "    [1, 2, 3, 4],\n",
        "    [5, 6, 7, 8],\n",
        "])\n",
        "\n",
        "let b = a[1, 2]\n",
        "\n",
        "print(b)"
      ],
      "execution_count": 0,
      "outputs": [
        {
          "output_type": "stream",
          "text": [
            "NDArray<Int>[](7)\r\n"
          ],
          "name": "stdout"
        }
      ]
    },
    {
      "cell_type": "markdown",
      "metadata": {
        "colab_type": "text",
        "id": "KE9fmBAWSqPk"
      },
      "source": [
        "### Slicing"
      ]
    },
    {
      "cell_type": "code",
      "metadata": {
        "colab_type": "code",
        "outputId": "026d4a04-f85f-4086-851e-6f8f5eba9e6d",
        "id": "6bwV04gDSrG3",
        "colab": {
          "base_uri": "https://localhost:8080/",
          "height": 86
        }
      },
      "source": [
        "let a = NDArray<Int>([\n",
        "    [1, 2, 3, 4],\n",
        "    [5, 6, 7, 8],\n",
        "])\n",
        "\n",
        "let b = a[0..., 1...]\n",
        "\n",
        "print(b)"
      ],
      "execution_count": 0,
      "outputs": [
        {
          "output_type": "stream",
          "text": [
            "NDArray<Int>[2, 3]([\r\n",
            "    [2, 3, 4],\r\n",
            "    [6, 7, 8],\r\n",
            "])\r\n"
          ],
          "name": "stdout"
        }
      ]
    },
    {
      "cell_type": "markdown",
      "metadata": {
        "colab_type": "text",
        "id": "hGM0kRRAbROb"
      },
      "source": [
        "### Striding"
      ]
    },
    {
      "cell_type": "code",
      "metadata": {
        "colab_type": "code",
        "outputId": "e0979802-4b47-4883-b027-1748f209889a",
        "id": "r0rwMlT7bROe",
        "colab": {
          "base_uri": "https://localhost:8080/",
          "height": 86
        }
      },
      "source": [
        "let a = NDArray<Int>([\n",
        "    [1, 2, 3, 4],\n",
        "    [5, 6, 7, 8],\n",
        "])\n",
        "\n",
        "let b = a[0..., ArrayRange.slice(stride: 2)]\n",
        "\n",
        "print(b)"
      ],
      "execution_count": 0,
      "outputs": [
        {
          "output_type": "stream",
          "text": [
            "NDArray<Int>[2, 2]([\r\n",
            "    [1, 3],\r\n",
            "    [5, 7],\r\n",
            "])\r\n"
          ],
          "name": "stdout"
        }
      ]
    },
    {
      "cell_type": "code",
      "metadata": {
        "id": "lrfzr-2qqiSR",
        "colab_type": "code",
        "outputId": "3b667955-9473-4f1f-c378-7fc7e56caf53",
        "colab": {
          "base_uri": "https://localhost:8080/",
          "height": 86
        }
      },
      "source": [
        "let a = NDArray<Int>([\n",
        "    [1, 2, 3, 4],\n",
        "    [5, 6, 7, 8],\n",
        "])\n",
        "\n",
        "let b = a[0..., (0...).stride(2)]\n",
        "\n",
        "print(b)"
      ],
      "execution_count": 0,
      "outputs": [
        {
          "output_type": "stream",
          "text": [
            "NDArray<Int>[2, 2]([\r\n",
            "    [1, 3],\r\n",
            "    [5, 7],\r\n",
            "])\r\n"
          ],
          "name": "stdout"
        }
      ]
    },
    {
      "cell_type": "markdown",
      "metadata": {
        "colab_type": "text",
        "id": "OLRd9X-6brbu"
      },
      "source": [
        "### SqueezeAxis"
      ]
    },
    {
      "cell_type": "code",
      "metadata": {
        "colab_type": "code",
        "outputId": "38e76f46-9903-49bc-9772-48bdd894a7df",
        "id": "GL9N5tWobrby",
        "colab": {
          "base_uri": "https://localhost:8080/",
          "height": 34
        }
      },
      "source": [
        "let a = NDArray<Int>([\n",
        "    [1, 2, 3, 4],\n",
        "])\n",
        "\n",
        "let b = a[ArrayRange.squeezeAxis, 0...]\n",
        "\n",
        "print(b)"
      ],
      "execution_count": 0,
      "outputs": [
        {
          "output_type": "stream",
          "text": [
            "NDArray<Int>[4]([1, 2, 3, 4])\r\n"
          ],
          "name": "stdout"
        }
      ]
    },
    {
      "cell_type": "markdown",
      "metadata": {
        "colab_type": "text",
        "id": "GrsH10kJcArq"
      },
      "source": [
        "### NewAxis"
      ]
    },
    {
      "cell_type": "code",
      "metadata": {
        "colab_type": "code",
        "outputId": "30c39f72-7e1a-4464-e602-c6779f89cc70",
        "id": "8N8JSrFVcAru",
        "colab": {
          "base_uri": "https://localhost:8080/",
          "height": 68
        }
      },
      "source": [
        "let a = NDArray<Int>([1, 2, 3, 4])\n",
        "\n",
        "let b = a[ArrayRange.newAxis]\n",
        "\n",
        "print(b)"
      ],
      "execution_count": 0,
      "outputs": [
        {
          "output_type": "stream",
          "text": [
            "NDArray<Int>[1, 4]([\r\n",
            "    [1, 2, 3, 4],\r\n",
            "])\r\n"
          ],
          "name": "stdout"
        }
      ]
    },
    {
      "cell_type": "markdown",
      "metadata": {
        "colab_type": "text",
        "id": "CQAwLeqCcQrG"
      },
      "source": [
        "### Ellipsis"
      ]
    },
    {
      "cell_type": "code",
      "metadata": {
        "colab_type": "code",
        "outputId": "cbc96137-2bd5-43fd-eb68-629dfde4b121",
        "id": "EXaD2VtVcQrJ",
        "colab": {
          "base_uri": "https://localhost:8080/",
          "height": 86
        }
      },
      "source": [
        "let a = NDArray<Int>(Array(1 ... 16), shape: [2, 2, 2, 2])\n",
        "\n",
        "let b = a[1, ArrayRange.ellipsis, 0]\n",
        "\n",
        "print(b)"
      ],
      "execution_count": 0,
      "outputs": [
        {
          "output_type": "stream",
          "text": [
            "NDArray<Int>[2, 2]([\r\n",
            "    [9, 11],\r\n",
            "    [13, 15],\r\n",
            "])\r\n"
          ],
          "name": "stdout"
        }
      ]
    },
    {
      "cell_type": "markdown",
      "metadata": {
        "colab_type": "text",
        "id": "6VKoP3agdhMR"
      },
      "source": [
        "### Negative indexing"
      ]
    },
    {
      "cell_type": "code",
      "metadata": {
        "colab_type": "code",
        "outputId": "1ec26351-0438-4254-80f4-c1381e4271bb",
        "id": "h_sDp3ThdhMT",
        "colab": {
          "base_uri": "https://localhost:8080/",
          "height": 34
        }
      },
      "source": [
        "let a = NDArray<Int>([\n",
        "    [1, 2, 3, 4],\n",
        "    [5, 6, 7, 8],\n",
        "])\n",
        "\n",
        "let b = a[-1, ..<(-1)]\n",
        "\n",
        "print(b)"
      ],
      "execution_count": 0,
      "outputs": [
        {
          "output_type": "stream",
          "text": [
            "NDArray<Int>[3]([5, 6, 7])\r\n"
          ],
          "name": "stdout"
        }
      ]
    },
    {
      "cell_type": "markdown",
      "metadata": {
        "colab_type": "text",
        "id": "ZUrAe4zBfg_d"
      },
      "source": [
        "### Negative Stride"
      ]
    },
    {
      "cell_type": "code",
      "metadata": {
        "colab_type": "code",
        "outputId": "65ec9be0-485f-4548-e0c8-43d0c793da9c",
        "id": "sODwAzfHfg_j",
        "colab": {
          "base_uri": "https://localhost:8080/",
          "height": 86
        }
      },
      "source": [
        "let a = NDArray<Int>([\n",
        "    [1, 2, 3, 4],\n",
        "    [5, 6, 7, 8],\n",
        "])\n",
        "\n",
        "let b = a[0..., ArrayRange.slice(stride: -1)]\n",
        "\n",
        "print(b)"
      ],
      "execution_count": 0,
      "outputs": [
        {
          "output_type": "stream",
          "text": [
            "NDArray<Int>[2, 4]([\r\n",
            "    [4, 3, 2, 1],\r\n",
            "    [8, 7, 6, 5],\r\n",
            "])\r\n"
          ],
          "name": "stdout"
        }
      ]
    },
    {
      "cell_type": "markdown",
      "metadata": {
        "colab_type": "text",
        "id": "97ppVgSttwOm"
      },
      "source": [
        "### Filter by Index"
      ]
    },
    {
      "cell_type": "code",
      "metadata": {
        "colab_type": "code",
        "outputId": "84b28891-d0cf-488a-80ca-bc199b936d9d",
        "id": "v82GRebatwOp",
        "colab": {
          "base_uri": "https://localhost:8080/",
          "height": 86
        }
      },
      "source": [
        "let a = NDArray<Int>([\n",
        "    [1, 2, 3, 4],\n",
        "    [5, 6, 7, 8],\n",
        "])\n",
        "\n",
        "let b = a[0..., [1, 0, -1]]\n",
        "\n",
        "print(b)"
      ],
      "execution_count": 0,
      "outputs": [
        {
          "output_type": "stream",
          "text": [
            "NDArray<Int>[2, 3]([\r\n",
            "    [2, 1, 4],\r\n",
            "    [6, 5, 8],\r\n",
            "])\r\n"
          ],
          "name": "stdout"
        }
      ]
    },
    {
      "cell_type": "markdown",
      "metadata": {
        "colab_type": "text",
        "id": "nB4Nw8Djue1d"
      },
      "source": [
        "### Filter by Mask"
      ]
    },
    {
      "cell_type": "code",
      "metadata": {
        "colab_type": "code",
        "outputId": "a8b85909-0978-4f88-e10e-4bbbbb117464",
        "id": "5L4ylCgpue1f",
        "colab": {
          "base_uri": "https://localhost:8080/",
          "height": 86
        }
      },
      "source": [
        "let a = NDArray<Int>([\n",
        "    [1, 2, 3, 4],\n",
        "    [5, 6, 7, 8],\n",
        "])\n",
        "\n",
        "let b = a[0..., [false, true, true, false]]\n",
        "\n",
        "print(b)"
      ],
      "execution_count": 0,
      "outputs": [
        {
          "output_type": "stream",
          "text": [
            "NDArray<Int>[2, 2]([\r\n",
            "    [2, 3],\r\n",
            "    [6, 7],\r\n",
            "])\r\n"
          ],
          "name": "stdout"
        }
      ]
    },
    {
      "cell_type": "markdown",
      "metadata": {
        "colab_type": "text",
        "id": "xqKt2eAMct78"
      },
      "source": [
        "### Assigment"
      ]
    },
    {
      "cell_type": "code",
      "metadata": {
        "colab_type": "code",
        "outputId": "f7ebc968-9019-4789-c6c4-e9fcbfec93e9",
        "id": "1-qHmF8Ict7_",
        "colab": {
          "base_uri": "https://localhost:8080/",
          "height": 86
        }
      },
      "source": [
        "var a = NDArray<Int>([\n",
        "    [1, 2, 3, 4],\n",
        "    [5, 6, 7, 8],\n",
        "])\n",
        "\n",
        "a[0..., 1] = NDArray(-1)\n",
        "\n",
        "print(a)"
      ],
      "execution_count": 0,
      "outputs": [
        {
          "output_type": "stream",
          "text": [
            "NDArray<Int>[2, 4]([\r\n",
            "    [1, -1, 3, 4],\r\n",
            "    [5, -1, 7, 8],\r\n",
            "])\r\n"
          ],
          "name": "stdout"
        }
      ]
    },
    {
      "cell_type": "markdown",
      "metadata": {
        "colab_type": "text",
        "id": "Engehuqu-aN5"
      },
      "source": [
        "\n",
        "\n",
        "## Experimental Subscript API\n",
        "The experimental subscript API tries to propose a more expressive and readable syntax by using global constants and a new `..` operator family for slicing.\n",
        "\n",
        "**Constants**\n",
        "\n",
        "| Name        | Value           | \n",
        "|:------------- |:-------------| \n",
        "| all     | 0... | \n",
        "| newAxis | ArrayRange.newAxis  | \n",
        "| new | ArrayRange.newAxis  | \n",
        "| squeezeAxis | ArrayRange.squeezeAxis | \n",
        "| squeeze | ArrayRange.squeezeAxis | \n",
        "| ellipsis | ArrayRange.ellipsis | \n",
        "| rest | ArrayRange.ellipsis | \n",
        "\n",
        "**Slice Syntax**\n",
        "\n",
        "| Numpy  | NDArray | \n",
        "|:------------- |:-------------|\n",
        "| :  | 0.. |\n",
        "| a:  | a.. | \n",
        "| :b | ..b |\n",
        "| a:b | a..b | \n",
        "| ::s | ....s | \n",
        "| a::s | a....s |\n",
        "| :b:s | ..b..s |\n",
        "| a:b:s | a..b..s |\n",
        "\n"
      ]
    },
    {
      "cell_type": "markdown",
      "metadata": {
        "colab_type": "text",
        "id": "dhrYGCVV-aOS"
      },
      "source": [
        "### Slicing"
      ]
    },
    {
      "cell_type": "code",
      "metadata": {
        "colab_type": "code",
        "outputId": "afe88f85-1c24-45b9-df41-471d790f61f9",
        "id": "9uhSjqvO-aOU",
        "colab": {
          "base_uri": "https://localhost:8080/",
          "height": 86
        }
      },
      "source": [
        "let a = NDArray<Int>([\n",
        "    [1, 2, 3, 4],\n",
        "    [5, 6, 7, 8],\n",
        "])\n",
        "\n",
        "let b = a[0.., 1..] //a[:, 1:]\n",
        "\n",
        "print(b)"
      ],
      "execution_count": 0,
      "outputs": [
        {
          "output_type": "stream",
          "text": [
            "NDArray<Int>[2, 3]([\r\n",
            "    [2, 3, 4],\r\n",
            "    [6, 7, 8],\r\n",
            "])\r\n"
          ],
          "name": "stdout"
        }
      ]
    },
    {
      "cell_type": "code",
      "metadata": {
        "id": "DW5a0HSUDrTU",
        "colab_type": "code",
        "outputId": "5cd94693-0115-4c56-eaa3-b779dc6e28e3",
        "colab": {
          "base_uri": "https://localhost:8080/",
          "height": 86
        }
      },
      "source": [
        "let a = NDArray<Int>([\n",
        "    [1, 2, 3, 4],\n",
        "    [5, 6, 7, 8],\n",
        "])\n",
        "\n",
        "let b = a[all, 1..3] //a[:, 1:3]\n",
        "\n",
        "print(b)"
      ],
      "execution_count": 0,
      "outputs": [
        {
          "output_type": "stream",
          "text": [
            "NDArray<Int>[2, 2]([\r\n",
            "    [2, 3],\r\n",
            "    [6, 7],\r\n",
            "])\r\n"
          ],
          "name": "stdout"
        }
      ]
    },
    {
      "cell_type": "markdown",
      "metadata": {
        "colab_type": "text",
        "id": "925apipn-aOY"
      },
      "source": [
        "### Striding"
      ]
    },
    {
      "cell_type": "code",
      "metadata": {
        "colab_type": "code",
        "outputId": "1d679584-9152-4182-d61f-442132d59d01",
        "id": "nu3Qo6W8-aOa",
        "colab": {
          "base_uri": "https://localhost:8080/",
          "height": 86
        }
      },
      "source": [
        "let a = NDArray<Int>([\n",
        "    [1, 2, 3, 4],\n",
        "    [5, 6, 7, 8],\n",
        "])\n",
        "\n",
        "let b = a[0.., ....2] //a[:, ::2]\n",
        "\n",
        "print(b)"
      ],
      "execution_count": 0,
      "outputs": [
        {
          "output_type": "stream",
          "text": [
            "NDArray<Int>[2, 2]([\r\n",
            "    [1, 3],\r\n",
            "    [5, 7],\r\n",
            "])\r\n"
          ],
          "name": "stdout"
        }
      ]
    },
    {
      "cell_type": "markdown",
      "metadata": {
        "colab_type": "text",
        "id": "PswfXHXC-aOf"
      },
      "source": [
        "### SqueezeAxis"
      ]
    },
    {
      "cell_type": "code",
      "metadata": {
        "colab_type": "code",
        "outputId": "0eb148c7-4568-4d1b-a98a-6d557e764e3f",
        "id": "ZoYv6BVO-aOh",
        "colab": {
          "base_uri": "https://localhost:8080/",
          "height": 34
        }
      },
      "source": [
        "let a = NDArray<Int>([\n",
        "    [1, 2, 3, 4],\n",
        "])\n",
        "\n",
        "let b = a[squeezeAxis, 0..]\n",
        "\n",
        "print(b)"
      ],
      "execution_count": 0,
      "outputs": [
        {
          "output_type": "stream",
          "text": [
            "NDArray<Int>[4]([1, 2, 3, 4])\r\n"
          ],
          "name": "stdout"
        }
      ]
    },
    {
      "cell_type": "markdown",
      "metadata": {
        "colab_type": "text",
        "id": "bah9oJQW-aOl"
      },
      "source": [
        "### NewAxis"
      ]
    },
    {
      "cell_type": "code",
      "metadata": {
        "colab_type": "code",
        "outputId": "36aa5526-7675-4ca8-8046-02802c944b04",
        "id": "7t2NidQt-aOl",
        "colab": {
          "base_uri": "https://localhost:8080/",
          "height": 68
        }
      },
      "source": [
        "let a = NDArray<Int>([1, 2, 3, 4])\n",
        "\n",
        "let b = a[newAxis] // a[np.newaxis]\n",
        "\n",
        "print(b)"
      ],
      "execution_count": 0,
      "outputs": [
        {
          "output_type": "stream",
          "text": [
            "NDArray<Int>[1, 4]([\r\n",
            "    [1, 2, 3, 4],\r\n",
            "])\r\n"
          ],
          "name": "stdout"
        }
      ]
    },
    {
      "cell_type": "markdown",
      "metadata": {
        "colab_type": "text",
        "id": "4NE46dAb-aOp"
      },
      "source": [
        "### Ellipsis"
      ]
    },
    {
      "cell_type": "code",
      "metadata": {
        "colab_type": "code",
        "outputId": "75557e40-5562-432d-e78a-bf825b77182f",
        "id": "Z2HfpiWM-aOq",
        "colab": {
          "base_uri": "https://localhost:8080/",
          "height": 86
        }
      },
      "source": [
        "let a = NDArray<Int>(Array(1...16), shape: [2, 2, 2, 2])\n",
        "\n",
        "let b = a[1, rest, 0]\n",
        "// or\n",
        "let c = a[1, ellipsis, 0] // a[1, ..., 0]\n",
        "\n",
        "print(b)"
      ],
      "execution_count": 0,
      "outputs": [
        {
          "output_type": "stream",
          "text": [
            "NDArray<Int>[2, 2]([\r\n",
            "    [9, 11],\r\n",
            "    [13, 15],\r\n",
            "])\r\n"
          ],
          "name": "stdout"
        }
      ]
    },
    {
      "cell_type": "markdown",
      "metadata": {
        "colab_type": "text",
        "id": "Zqfpwl4z-aOs"
      },
      "source": [
        "### Negative indexing"
      ]
    },
    {
      "cell_type": "code",
      "metadata": {
        "colab_type": "code",
        "outputId": "64d888f0-907d-491c-894e-a43abdd72dbb",
        "id": "xRknojmz-aOt",
        "colab": {
          "base_uri": "https://localhost:8080/",
          "height": 34
        }
      },
      "source": [
        "let a = NDArray<Int>([\n",
        "    [1, 2, 3, 4],\n",
        "    [5, 6, 7, 8],\n",
        "])\n",
        "\n",
        "let b = a[-1, ..-1] // a[-1, :-1]\n",
        "\n",
        "print(b)"
      ],
      "execution_count": 0,
      "outputs": [
        {
          "output_type": "stream",
          "text": [
            "NDArray<Int>[3]([5, 6, 7])\r\n"
          ],
          "name": "stdout"
        }
      ]
    },
    {
      "cell_type": "markdown",
      "metadata": {
        "colab_type": "text",
        "id": "W77zBmka-aOv"
      },
      "source": [
        "### Negative Stride"
      ]
    },
    {
      "cell_type": "code",
      "metadata": {
        "colab_type": "code",
        "outputId": "2632e581-29a8-4050-cda0-ea111e034fa2",
        "id": "GS3PbiNX-aOv",
        "colab": {
          "base_uri": "https://localhost:8080/",
          "height": 86
        }
      },
      "source": [
        "let a = NDArray<Int>([\n",
        "    [1, 2, 3, 4],\n",
        "    [5, 6, 7, 8],\n",
        "])\n",
        "\n",
        "let b = a[all, ....-1] // a[:, ::-1]\n",
        "\n",
        "print(b)"
      ],
      "execution_count": 0,
      "outputs": [
        {
          "output_type": "stream",
          "text": [
            "NDArray<Int>[2, 4]([\r\n",
            "    [4, 3, 2, 1],\r\n",
            "    [8, 7, 6, 5],\r\n",
            "])\r\n"
          ],
          "name": "stdout"
        }
      ]
    },
    {
      "cell_type": "markdown",
      "metadata": {
        "id": "E-uP_QwqERIP",
        "colab_type": "text"
      },
      "source": [
        "### Slice + Stride"
      ]
    },
    {
      "cell_type": "code",
      "metadata": {
        "id": "w-E5qMOPD1FM",
        "colab_type": "code",
        "outputId": "4a3172c2-daf3-4715-b19a-aabc848da056",
        "colab": {
          "base_uri": "https://localhost:8080/",
          "height": 86
        }
      },
      "source": [
        "let a = NDArray<Int>([\n",
        "    [1, 2, 3, 4, 5, 6, 7, 8],\n",
        "    [9, 10, 11, 12, 13, 14, 15, 16],\n",
        "])\n",
        "\n",
        "let b = a[all, 3..7..2] // a[:, 3:7:2]\n",
        "\n",
        "print(b)"
      ],
      "execution_count": 0,
      "outputs": [
        {
          "output_type": "stream",
          "text": [
            "NDArray<Int>[2, 2]([\r\n",
            "    [4, 6],\r\n",
            "    [12, 14],\r\n",
            "])\r\n"
          ],
          "name": "stdout"
        }
      ]
    },
    {
      "cell_type": "markdown",
      "metadata": {
        "id": "Cbi8oSEJ39aJ",
        "colab_type": "text"
      },
      "source": [
        "### Slice Object\n",
        "The `..` operators return a custom `Slice` struct which is not iterable."
      ]
    },
    {
      "cell_type": "code",
      "metadata": {
        "id": "hj2WW28O3za6",
        "colab_type": "code",
        "outputId": "b83a4d9b-dfd2-4728-b73b-e21397bc4a20",
        "colab": {
          "base_uri": "https://localhost:8080/",
          "height": 34
        }
      },
      "source": [
        "print(2..10..-1)"
      ],
      "execution_count": 0,
      "outputs": [
        {
          "output_type": "stream",
          "text": [
            "StridedSlice(start: Optional(2), end: Optional(10), stride: -1)\r\n"
          ],
          "name": "stdout"
        }
      ]
    },
    {
      "cell_type": "markdown",
      "metadata": {
        "id": "AWO7EtJlPqab",
        "colab_type": "text"
      },
      "source": [
        "### Experimental Subscript API Discussion\n",
        "The experimental subscript API produces more readable code and its the closest yet to Python's colon (`:`) syntax. If fully adopted it would be good to remove `Range` and family out of the `ArrayExpression` protocol so its not accepted as a subscript argument to avoiding confusion.\n",
        "\n",
        "Having the global constants like `newAxis`, `squeeze` and `ellipsis/rest` makes sense since numpy also does it e.g. `np.newaxis`.\n"
      ]
    },
    {
      "cell_type": "markdown",
      "metadata": {
        "id": "YtMLFpaB3FAm",
        "colab_type": "text"
      },
      "source": [
        "## Elementwise Operations\n",
        "\n",
        "### Elementwise on a Single NDArray"
      ]
    },
    {
      "cell_type": "code",
      "metadata": {
        "id": "m1RqbPYVlxH3",
        "colab_type": "code",
        "outputId": "510c9f30-1300-4b56-a999-0a8649cb6043",
        "colab": {
          "base_uri": "https://localhost:8080/",
          "height": 86
        }
      },
      "source": [
        "let a = NDArray<Float>([[Float]]([\n",
        "    [1.0, 2.0, 3.0, 4.0],\n",
        "    [5.0, 6.0, 7.0, 8.0],\n",
        "]))\n",
        "\n",
        "let b = elementwise(a) { $0 * 2 }\n",
        "\n",
        "print(b)"
      ],
      "execution_count": 0,
      "outputs": [
        {
          "output_type": "stream",
          "text": [
            "NDArray<Float>[2, 4]([\r\n",
            "    [2.0, 4.0, 6.0, 8.0],\r\n",
            "    [10.0, 12.0, 14.0, 16.0],\r\n",
            "])\r\n"
          ],
          "name": "stdout"
        }
      ]
    },
    {
      "cell_type": "code",
      "metadata": {
        "id": "4KQum8g1mBUg",
        "colab_type": "code",
        "outputId": "a127c448-3b55-421b-a4f0-ae6225b6ebb7",
        "colab": {
          "base_uri": "https://localhost:8080/",
          "height": 86
        }
      },
      "source": [
        "let a = NDArray<Float>([[Float]]([\n",
        "    [1.0, 2.0, 3.0, 4.0],\n",
        "    [5.0, 6.0, 7.0, 8.0],\n",
        "]))\n",
        "\n",
        "let b = elementwiseInParallel(a, workers: 2) { $0 * 2 }\n",
        "\n",
        "print(b)"
      ],
      "execution_count": 0,
      "outputs": [
        {
          "output_type": "stream",
          "text": [
            "NDArray<Float>[2, 4]([\r\n",
            "    [2.0, 4.0, 6.0, 8.0],\r\n",
            "    [10.0, 12.0, 14.0, 16.0],\r\n",
            "])\r\n"
          ],
          "name": "stdout"
        }
      ]
    },
    {
      "cell_type": "markdown",
      "metadata": {
        "id": "WRJITti_moN0",
        "colab_type": "text"
      },
      "source": [
        "### Numeric Operators with Scalars\n",
        "\n",
        "Currently `+`, `-`, `*`, `/` are supported."
      ]
    },
    {
      "cell_type": "code",
      "metadata": {
        "id": "_zsNKMG2myN7",
        "colab_type": "code",
        "outputId": "40637e26-7123-46a6-957d-88b086f1e946",
        "colab": {
          "base_uri": "https://localhost:8080/",
          "height": 86
        }
      },
      "source": [
        "let a = NDArray<Float>([[Float]]([\n",
        "    [1.0, 2.0, 3.0, 4.0],\n",
        "    [5.0, 6.0, 7.0, 8.0],\n",
        "]))\n",
        "\n",
        "let b = a * 2\n",
        "\n",
        "print(b)"
      ],
      "execution_count": 0,
      "outputs": [
        {
          "output_type": "stream",
          "text": [
            "NDArray<Float>[2, 4]([\r\n",
            "    [2.0, 4.0, 6.0, 8.0],\r\n",
            "    [10.0, 12.0, 14.0, 16.0],\r\n",
            "])\r\n"
          ],
          "name": "stdout"
        }
      ]
    },
    {
      "cell_type": "markdown",
      "metadata": {
        "colab_type": "text",
        "id": "KlRdhKHhnDSK"
      },
      "source": [
        "### Elementwise on a pair of NDArrays"
      ]
    },
    {
      "cell_type": "code",
      "metadata": {
        "colab_type": "code",
        "outputId": "d1f6b4a7-1c44-483f-995e-bd2426a4879b",
        "id": "vQckDZ87nDSP",
        "colab": {
          "base_uri": "https://localhost:8080/",
          "height": 86
        }
      },
      "source": [
        "let a = NDArray<Int>([\n",
        "    [1, 2],\n",
        "    [5, 6],\n",
        "])\n",
        "\n",
        "let b = NDArray<Int>([\n",
        "    [1, 10],\n",
        "    [100, 1000],\n",
        "])\n",
        "\n",
        "let c = elementwise(a, b) { $0 * $1 }\n",
        "\n",
        "print(c)"
      ],
      "execution_count": 0,
      "outputs": [
        {
          "output_type": "stream",
          "text": [
            "NDArray<Int>[2, 2]([\r\n",
            "    [1, 20],\r\n",
            "    [500, 6000],\r\n",
            "])\r\n"
          ],
          "name": "stdout"
        }
      ]
    },
    {
      "cell_type": "code",
      "metadata": {
        "colab_type": "code",
        "outputId": "53e6d8e3-a40e-4b80-d14a-a128114a35dc",
        "id": "oohsJEbgnDSX",
        "colab": {
          "base_uri": "https://localhost:8080/",
          "height": 86
        }
      },
      "source": [
        "let a = NDArray<Int>([\n",
        "    [1, 2],\n",
        "    [5, 6],\n",
        "])\n",
        "\n",
        "let b = NDArray<Int>([\n",
        "    [1, 10],\n",
        "    [100, 1000],\n",
        "])\n",
        "\n",
        "let c = elementwiseInParallel(a, b, workers: 2) { $0 * $1 }\n",
        "\n",
        "print(c)"
      ],
      "execution_count": 0,
      "outputs": [
        {
          "output_type": "stream",
          "text": [
            "NDArray<Int>[2, 2]([\r\n",
            "    [1, 20],\r\n",
            "    [500, 6000],\r\n",
            "])\r\n"
          ],
          "name": "stdout"
        }
      ]
    },
    {
      "cell_type": "markdown",
      "metadata": {
        "colab_type": "text",
        "id": "TWp0oPQenDSi"
      },
      "source": [
        "### Numeric Operators\n",
        "\n",
        "Currently `+`, `-`, `*`, `/` are supported."
      ]
    },
    {
      "cell_type": "code",
      "metadata": {
        "colab_type": "code",
        "outputId": "d531866b-adc5-456c-cf26-18a3c320bdb2",
        "id": "Htbo1S-jnDSk",
        "colab": {
          "base_uri": "https://localhost:8080/",
          "height": 86
        }
      },
      "source": [
        "let a = NDArray<Int>([\n",
        "    [1, 2],\n",
        "    [5, 6],\n",
        "])\n",
        "\n",
        "let b = NDArray<Int>([\n",
        "    [1, 10],\n",
        "    [100, 1000],\n",
        "])\n",
        "\n",
        "let c = a * b\n",
        "\n",
        "print(c)"
      ],
      "execution_count": 0,
      "outputs": [
        {
          "output_type": "stream",
          "text": [
            "NDArray<Int>[2, 2]([\r\n",
            "    [1, 20],\r\n",
            "    [500, 6000],\r\n",
            "])\r\n"
          ],
          "name": "stdout"
        }
      ]
    },
    {
      "cell_type": "markdown",
      "metadata": {
        "id": "1G4gGVOlVy4w",
        "colab_type": "text"
      },
      "source": [
        "## Non-Numeric Types\n",
        "\n",
        "Since NDArray is a generic container type in Swift, non-numeric types have first-class support, just like Array, NDArray doesn't care much about the type its containing (this is a great advantage over Numpy!) except for operator implementations and optimizations of certain operations for numeric types."
      ]
    },
    {
      "cell_type": "code",
      "metadata": {
        "id": "6um_po9DVyRB",
        "colab_type": "code",
        "colab": {}
      },
      "source": [
        "struct Point: Equatable {\n",
        "    let x: Float\n",
        "    let y: Float\n",
        "}"
      ],
      "execution_count": 0,
      "outputs": []
    },
    {
      "cell_type": "code",
      "metadata": {
        "id": "yYyXQaP1WFav",
        "colab_type": "code",
        "outputId": "aa922b98-8b61-4439-b25c-a1618256ee34",
        "colab": {
          "base_uri": "https://localhost:8080/",
          "height": 86
        }
      },
      "source": [
        "let a = NDArray<Float>([[Float]]([\n",
        "    [1.0, 2.0, 3.0, 4.0],\n",
        "    [5.0, 6.0, 7.0, 8.0],\n",
        "]))\n",
        "\n",
        "let b = elementwise(a) { Point(x: $0, y: -$0) }\n",
        "\n",
        "print(b)"
      ],
      "execution_count": 0,
      "outputs": [
        {
          "output_type": "stream",
          "text": [
            "NDArray<Point>[2, 4]([\r\n",
            "    [Point(x: 1.0, y: -1.0), Point(x: 2.0, y: -2.0), Point(x: 3.0, y: -3.0), Point(x: 4.0, y: -4.0)],\r\n",
            "    [Point(x: 5.0, y: -5.0), Point(x: 6.0, y: -6.0), Point(x: 7.0, y: -7.0), Point(x: 8.0, y: -8.0)],\r\n",
            "])\r\n"
          ],
          "name": "stdout"
        }
      ]
    },
    {
      "cell_type": "code",
      "metadata": {
        "id": "dzRo-iAQYTc1",
        "colab_type": "code",
        "outputId": "ebc5db26-8409-43b7-8e86-20e9b06f99d4",
        "colab": {
          "base_uri": "https://localhost:8080/",
          "height": 34
        }
      },
      "source": [
        "print(b[1, -1])"
      ],
      "execution_count": 0,
      "outputs": [
        {
          "output_type": "stream",
          "text": [
            "NDArray<Point>[](Point(x: 8.0, y: -8.0))\r\n"
          ],
          "name": "stdout"
        }
      ]
    },
    {
      "cell_type": "code",
      "metadata": {
        "id": "ZuMaB12WYuR-",
        "colab_type": "code",
        "outputId": "ea15a39d-11df-4a0a-9627-8bcd437632bb",
        "colab": {
          "base_uri": "https://localhost:8080/",
          "height": 86
        }
      },
      "source": [
        "print(b[....-1, ....-1])"
      ],
      "execution_count": 0,
      "outputs": [
        {
          "output_type": "stream",
          "text": [
            "NDArray<Point>[2, 4]([\r\n",
            "    [Point(x: 8.0, y: -8.0), Point(x: 7.0, y: -7.0), Point(x: 6.0, y: -6.0), Point(x: 5.0, y: -5.0)],\r\n",
            "    [Point(x: 4.0, y: -4.0), Point(x: 3.0, y: -3.0), Point(x: 2.0, y: -2.0), Point(x: 1.0, y: -1.0)],\r\n",
            "])\r\n"
          ],
          "name": "stdout"
        }
      ]
    },
    {
      "cell_type": "markdown",
      "metadata": {
        "id": "t_qV_lVlTIEx",
        "colab_type": "text"
      },
      "source": [
        "## Numeric Protocol Conformance\n",
        "\n",
        "If the Scalar type of and NDArray conform to certain protocols then certain methods and operators like `+`, `-`, `*`, etc, can be used:"
      ]
    },
    {
      "cell_type": "code",
      "metadata": {
        "id": "G0n7Tl69Tg2G",
        "colab_type": "code",
        "colab": {}
      },
      "source": [
        "extension Point: AdditiveArithmetic {\n",
        "\n",
        "    public static var zero: Point { Point(x: 0, y: 0) }\n",
        "\n",
        "    public static prefix func + (lhs: Self) -> Self {\n",
        "        lhs\n",
        "    }\n",
        "\n",
        "    public static func + (lhs: Self, rhs: Self) -> Self {\n",
        "        Point(x: lhs.x + rhs.x, y: lhs.y + rhs.y)\n",
        "    }\n",
        "\n",
        "    public static func += (lhs: inout Self, rhs: Self) {\n",
        "        lhs = lhs + rhs\n",
        "    }\n",
        "\n",
        "    public static func - (lhs: Self, rhs: Self) -> Self {\n",
        "        Point(x: lhs.x - rhs.x, y: lhs.y - rhs.y)\n",
        "    }\n",
        "\n",
        "    public static func -= (_ lhs: inout Point, _ rhs: Point) {\n",
        "        lhs = lhs - rhs\n",
        "    }\n",
        "}"
      ],
      "execution_count": 0,
      "outputs": []
    },
    {
      "cell_type": "code",
      "metadata": {
        "id": "3Gndi1dFTdhY",
        "colab_type": "code",
        "outputId": "03bf779a-ad02-4213-d209-23300258f03b",
        "colab": {
          "base_uri": "https://localhost:8080/",
          "height": 34
        }
      },
      "source": [
        "let a = NDArray<Point>([Point(x: 1, y: 2), Point(x: 2, y: 3)])\n",
        "let b = NDArray<Point>([Point(x: 4, y: 5), Point(x: 6, y: 7)])\n",
        "\n",
        "print(a + b)"
      ],
      "execution_count": 0,
      "outputs": [
        {
          "output_type": "stream",
          "text": [
            "NDArray<Point>[2]([Point(x: 5.0, y: 7.0), Point(x: 8.0, y: 10.0)])\r\n"
          ],
          "name": "stdout"
        }
      ]
    },
    {
      "cell_type": "code",
      "metadata": {
        "id": "_Why4Snp4gwD",
        "colab_type": "code",
        "colab": {}
      },
      "source": [
        ""
      ],
      "execution_count": 0,
      "outputs": []
    }
  ]
}